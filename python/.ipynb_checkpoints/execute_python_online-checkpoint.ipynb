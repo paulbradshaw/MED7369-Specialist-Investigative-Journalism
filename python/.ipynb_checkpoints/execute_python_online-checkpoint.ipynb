{
 "cells": [
  {
   "cell_type": "markdown",
   "metadata": {},
   "source": [
    "# Introduction to Python (for scraping)\n",
    "\n",
    "This tutorial is intended to get you started with coding in Python. By the end you should:\n",
    "\n",
    "* Be able to use basic commands like `print` to see what the code is doing\n",
    "* Explain coding concepts like variables, loops and if/else tests - and explain how those can be used in journalistic applications like scraping\n",
    "* Identify different types of data: numerical (integers and floats), text (strings), lists and dictionaries\n",
    "\n",
    "Let's get started.\n",
    "\n",
    "## Programming environments\n",
    "\n",
    "To use Python you need to be using a computer on which Python has been installed. There are two ways of doing this:\n",
    "\n",
    "* Use a web-based environment which allows you to run Python on a remote computer where it is already installed\n",
    "* Install Python on your own computer. \n",
    "\n",
    "The easiest way to do the latter is to [install Anaconda](https://www.anaconda.com/download/#macos). This not only installs Python but also useful tools like **Jupyter Notebook** (a way of making your code accessible to others - you are reading a notebook right now) and **Spyder** (a coding 'environment' that allows you to see what you're working with, similar to RStudio). [You can find a video tutorial on installing Python and Jupyter Notebook here](https://www.lynda.com/Software-Development-tutorials/Installing-Python-Jupyter-Notebook/576698/605448-4.html). If you are studying the MA Data Journalism, this is well worth doing. \n",
    "\n",
    "Web-based environments include [Execute Python Online](https://github.com/paulbradshaw/python_demo/blob/master/executepythononline.md), [Try Jupyter](https://github.com/paulbradshaw/python_demo/blob/master/tryjupyter.md) (a good way to get used to notebooks - but code is stored only temporarily), [PythonAnywhere](https://github.com/paulbradshaw/python_demo/blob/master/pythonanywhere.md), [Trinket](https://trinket.io/) (which could be a way to allow people to play with your code as you can embed both code and results in an iframe), and [Repl.it](https://repl.it/).\n",
    "\n",
    "For this tutorial we are going to start with [Execute Python Online website](https://www.tutorialspoint.com/execute_python_online.php) to build some basic understanding, before using [Morph.io](https://morph.io/) to start to write scrapers.\n",
    "\n",
    "# A brief introduction to Execute Python Online\n",
    "\n",
    "The [Execute Python Online website](https://www.tutorialspoint.com/execute_python_online.php) allows you to use Python without creating an account or logging in. Start there.\n",
    "\n",
    "The website screen is split into 3 sections:\n",
    "\n",
    "* The upper left corner shows the file directory. Ignore this: you won't need it.\n",
    "* The upper right corner is where you write your code. Above it are buttons to 'execute' that code, etc.\n",
    "* The bottom half of the screen shows you what *output* is generated when you execute the code above.\n",
    "\n",
    "The code window already has two lines of code:\n",
    "\n",
    "```python\n",
    "# Hello World program in Python\n",
    "print \"Hello World!\\n\"\n",
    "```\n",
    "\n",
    "The first line is a **comment**. Comments start with a hash symbol (`#`) and do not do anything, apart from describe what comes after. They are useful for explaining what the code is doing, both for others and for yourself when you return to it later. They can also be used to turn code 'off' temporarily by 'commenting out' a line of code (the line can then be turned back 'on' by removing the comment, or 'uncommenting').\n",
    "\n",
    "The second line is a **print** command. The word `print` tells Python to *display* anything that comes after it. In this case, a **string** of text: `\"Hello World!\\n\"`\n",
    "\n",
    "If you click execute, those two lines of code will run, and that string of text displayed in the output window below."
   ]
  },
  {
   "cell_type": "code",
   "execution_count": 1,
   "metadata": {
    "collapsed": false
   },
   "outputs": [
    {
     "name": "stdout",
     "output_type": "stream",
     "text": [
      "Hello World!\n",
      "\n"
     ]
    }
   ],
   "source": [
    "# Hello World program in Python\n",
    "print \"Hello World!\\n\"\n"
   ]
  },
  {
   "cell_type": "markdown",
   "metadata": {},
   "source": [
    "## 'Printing'\n",
    "\n",
    "When a computer runs code, you cannot see what it is doing unless you ask it to show you. \n",
    "\n",
    "In Python, you ask it to show you by using the `print` command. This doesn't actually print things to a physical printer, but instead *displays* information in an area (normally called the **console**). \n",
    "\n",
    "*Note: Execute Python Online, like many online Python services, uses Python 2.7. However, if you install Python on your computer using Anaconda then it will most likely be using Python 3. In Python 3 the above `print` command will generate an error: `SyntaxError: Missing parentheses in call to 'print'`. This is because in Python 3 you need to use parentheses: `print(\"Hello World!\\n\")`*"
   ]
  },
  {
   "cell_type": "markdown",
   "metadata": {},
   "source": [
    "## Variables: storing and manipulating information\n",
    "\n",
    "A variable is a way of storing and manipulating information in programming. In journalism, for example, you will need to store any URLs that you want to scrape, or page numbers that you want to cycle through, or numbers that you want to calculate, or text that you want to search.\n",
    "\n",
    "If you've ever written a spreadsheet formula that uses a cell reference like A2 or C10 then you've already used a form of variable: a formula like `=A2*10` or `=FIND(\"Smith\",A2)` can produce different results depending on the value in A2 - and is more flexible: instead of having to type a new formula each time you want to multiply a number by 10 or find a word, you only have to change one thing: the value in A2.\n",
    "\n",
    "In Python you create a variable by specifying a name for the variable, followed by the `=` operator, and the value that you want to store in that variable.\n",
    "\n",
    "Type two lines to create two different variables:"
   ]
  },
  {
   "cell_type": "code",
   "execution_count": 3,
   "metadata": {
    "collapsed": false
   },
   "outputs": [],
   "source": [
    "mynewvariable = \"Paul\"\n",
    "myage = 18"
   ]
  },
  {
   "cell_type": "markdown",
   "metadata": {},
   "source": [
    "Now test that the variables have been created by using the `print` command to show the variable in the next line:"
   ]
  },
  {
   "cell_type": "code",
   "execution_count": 4,
   "metadata": {
    "collapsed": false
   },
   "outputs": [
    {
     "name": "stdout",
     "output_type": "stream",
     "text": [
      "Paul\n"
     ]
    }
   ],
   "source": [
    "print mynewvariable"
   ]
  },
  {
   "cell_type": "markdown",
   "metadata": {},
   "source": [
    "The name of the variable can be almost anything - the only exceptions are a few special words which already exist as commands (`print` for example) but if you try to use any of these you will get a warning anyway. It cannot have spaces (use underscores instead).\n",
    "\n",
    "There are different *types* of variable in Python. The main ones to know are:\n",
    "\n",
    "* **Strings** (any text, like \"Hello World\")\n",
    "* **Integers** (whole numbers, like 15)\n",
    "* **Floats** (numbers with decimal places, like 13.0)\n",
    "* **Booleans** (true/false values)\n",
    "* **Lists** (a series of items. Those items can be numbers, strings, or any of the other types - including dictionaries and lists)\n",
    "* **Dictionaries** (key-value pairs, like \"name\":\"paul\" - typically more than one)\n",
    "\n",
    "Create one of each yourself, like so:"
   ]
  },
  {
   "cell_type": "code",
   "execution_count": 7,
   "metadata": {
    "collapsed": false
   },
   "outputs": [],
   "source": [
    "hername = \"Jane\"\n",
    "herage = 18\n",
    "hertemp = 37.5\n",
    "isfemale = True\n",
    "herfriends = [\"Paul\",\"Sarah\",\"Raneem\",\"Alf\"]\n",
    "herassets = {\"house\":90000,\"car\":10000,\"computer\":1000,\"phone\":300}"
   ]
  },
  {
   "cell_type": "markdown",
   "metadata": {
    "collapsed": false,
    "scrolled": true
   },
   "source": [
    "Note the differences between each type of variable: numbers don't use quotation marks, but **strings** do use quotation marks (you can use single or double quotes). **Booleans** must use the word `True` or `False` with the first letter capitalised (`TRUE` or `true` will not work). Colour coding often helps indicate the type of data you have created.\n",
    "\n",
    "**Lists** use square brackets, with a comma between each item. And **dictionaries** use curly brackets, with a comma between each *key-value pair*, and a colon to separate the key and value themselves.\n",
    "\n",
    "### Key-value pairs\n",
    "\n",
    "I should explain what this key-value business is about. The *key* is like a column heading in a spreadsheet: name, age, hometown. The *value* is like the cells underneath that column heading: \"Paul\", 18, \"Birmingham\". \n",
    "\n",
    "Dictionaries are useful in storing data. In a scraper, for example, you might grab one piece of information from a webpage and store it in a dictionary variable against a relevant key, then grab a different piece of information and store that against another key, and so on. If you get into scraping you'll get more experience with this.\n",
    "\n",
    "Note that the list and dictionary can contain either strings or numbers, or both. For example:\n",
    "\n",
    "```python\n",
    "herlastfivescores = [10,20,6,9,14]\n",
    "herbirthdate = {\"year\":2000, \"month\":\"July\", \"date\":27}\n",
    "```\n",
    "\n",
    "You can also have *empty* lists, dictionaries, or strings, like so:\n",
    "\n",
    "```python\n",
    "nothingtoseehere = \"\"\n",
    "fillme = []\n",
    "waitingforsomethingtohappen = {}\n",
    "```\n",
    "\n",
    "Lists and dictionaries can also contain their own lists or dictionaries. When you get lists within lists or dictionaries within dictionaries it can look a bit confusing at first, but you get used to it."
   ]
  },
  {
   "cell_type": "markdown",
   "metadata": {},
   "source": [
    "## Changing variables\n",
    "\n",
    "Once created variables can then be used - and changed - by using the name again, like so:"
   ]
  },
  {
   "cell_type": "code",
   "execution_count": 5,
   "metadata": {
    "collapsed": false
   },
   "outputs": [
    {
     "name": "stdout",
     "output_type": "stream",
     "text": [
      "Sarah\n"
     ]
    }
   ],
   "source": [
    "mynewvariable = \"Sarah\"\n",
    "print mynewvariable"
   ]
  },
  {
   "cell_type": "markdown",
   "metadata": {},
   "source": [
    "You can change a variable by assigning a new value in the same way:"
   ]
  },
  {
   "cell_type": "markdown",
   "metadata": {},
   "source": [
    "And you can even use a variable to update itself:"
   ]
  },
  {
   "cell_type": "code",
   "execution_count": 6,
   "metadata": {
    "collapsed": false
   },
   "outputs": [
    {
     "name": "stdout",
     "output_type": "stream",
     "text": [
      "18\n",
      "19\n"
     ]
    }
   ],
   "source": [
    "print(myage)\n",
    "myage = myage+1\n",
    "print(myage)"
   ]
  },
  {
   "cell_type": "markdown",
   "metadata": {},
   "source": [
    "Note that the code to the right of the `=` operator is executed *first*, so in the part `myage+1`, the variable `myage` is 18. 18+1 is 19, and that value is then **assigned** to the `myage` variable, overwriting its previous value of 18."
   ]
  },
  {
   "cell_type": "markdown",
   "metadata": {},
   "source": [
    "## Errors and data types\n",
    "\n",
    "Errors are part and parcel of coding. It is a rare piece of code which doesn't generate some sort of error at some point - and solving those errors becomes part of the fun of coding.\n",
    "\n",
    "Typically when you get an error you will also get information that helps you solve it. Here are some that you might get when creating variables...\n",
    "\n",
    "First, if you try to use a word *without* quotation marks, the code will assume that it has a special meaning, like a variable, function or library (more on those below).\n",
    "\n",
    "See what happens, for example, if we try to assign the value `Paula` *without* quotation marks to a variable:"
   ]
  },
  {
   "cell_type": "code",
   "execution_count": 8,
   "metadata": {
    "collapsed": false
   },
   "outputs": [
    {
     "ename": "NameError",
     "evalue": "name 'Paula' is not defined",
     "output_type": "error",
     "traceback": [
      "\u001b[0;31m---------------------------------------------------------------------------\u001b[0m",
      "\u001b[0;31mNameError\u001b[0m                                 Traceback (most recent call last)",
      "\u001b[0;32m<ipython-input-8-80f239cb018e>\u001b[0m in \u001b[0;36m<module>\u001b[0;34m()\u001b[0m\n\u001b[0;32m----> 1\u001b[0;31m \u001b[0mhername\u001b[0m \u001b[0;34m=\u001b[0m \u001b[0mPaula\u001b[0m\u001b[0;34m\u001b[0m\u001b[0m\n\u001b[0m",
      "\u001b[0;31mNameError\u001b[0m: name 'Paula' is not defined"
     ]
    }
   ],
   "source": [
    "hername = Paula"
   ]
  },
  {
   "cell_type": "markdown",
   "metadata": {},
   "source": [
    "The error tells us that `'Paul' is not defined`. In other words, we have not *defined* a function or variable called Paul. That's because it's not a function or variable - it's a string, but we forgot to indicate that by putting it inside quotation marks.\n",
    "\n",
    "Numbers do not need quotation marks because they are, well, numerical. And we want to treat them that way. Sometimes we *might* want to treat numbers as strings - for example if we are putting them into a URL, or adding them to a postcode or similar code. In those cases we would put them in quotation marks. But if want to perform calculations like adding, multiplying, and so on, we don't use quotation marks.\n",
    "\n",
    "If you try to combine a string with a number you will get an error like so:"
   ]
  },
  {
   "cell_type": "code",
   "execution_count": 9,
   "metadata": {
    "collapsed": false
   },
   "outputs": [
    {
     "ename": "TypeError",
     "evalue": "Can't convert 'int' object to str implicitly",
     "output_type": "error",
     "traceback": [
      "\u001b[0;31m---------------------------------------------------------------------------\u001b[0m",
      "\u001b[0;31mTypeError\u001b[0m                                 Traceback (most recent call last)",
      "\u001b[0;32m<ipython-input-9-c22129f5b479>\u001b[0m in \u001b[0;36m<module>\u001b[0;34m()\u001b[0m\n\u001b[0;32m----> 1\u001b[0;31m \u001b[0mcombiningstuff\u001b[0m \u001b[0;34m=\u001b[0m \u001b[0mhername\u001b[0m\u001b[0;34m+\u001b[0m\u001b[0mherage\u001b[0m\u001b[0;34m\u001b[0m\u001b[0m\n\u001b[0m",
      "\u001b[0;31mTypeError\u001b[0m: Can't convert 'int' object to str implicitly"
     ]
    }
   ],
   "source": [
    "combiningstuff = hername+herage"
   ]
  },
  {
   "cell_type": "markdown",
   "metadata": {},
   "source": [
    "That error tells you that it cannot convert an `'int'` (integer) to `str` (string) *implicitly*. In other words, without us being *explicit* that we want it to do so. \n",
    "\n",
    "To be explicit, we would have to add an extra instruction to convert that number into a string. That instruction is `str()`: a function that converts numbers to strings. Here it is in action:"
   ]
  },
  {
   "cell_type": "code",
   "execution_count": 11,
   "metadata": {
    "collapsed": false
   },
   "outputs": [
    {
     "name": "stdout",
     "output_type": "stream",
     "text": [
      "Jane18\n"
     ]
    }
   ],
   "source": [
    "combiningstuff = hername+str(herage)\n",
    "print combiningstuff"
   ]
  },
  {
   "cell_type": "markdown",
   "metadata": {},
   "source": [
    "## Loops\n",
    "\n",
    "Loops are a way to perform repetitive actions in code. They are extremely useful for situations involving lists or ranges of numbers: for example you might loop through a list of items and check each one, or save it in a datastore; or loop through a range of numbers and add them to a URL to create a page number.\n",
    "\n",
    "Here is an example:"
   ]
  },
  {
   "cell_type": "code",
   "execution_count": 13,
   "metadata": {
    "collapsed": false
   },
   "outputs": [
    {
     "name": "stdout",
     "output_type": "stream",
     "text": [
      "Paul\n",
      "Sarah\n",
      "Raneem\n",
      "Alf\n"
     ]
    }
   ],
   "source": [
    "for i in herfriends:\n",
    "    print(i)"
   ]
  },
  {
   "cell_type": "markdown",
   "metadata": {},
   "source": [
    "A loop has a number of parts which are worth breaking down:\n",
    "\n",
    "* `for` and `in`\n",
    "* the variable here called `i`\n",
    "* the colon\n",
    "* the indented code after the colon\n",
    "\n",
    "The word `for` indicates that we want to begin looping. What we want to loop *through* is indicated by `in`. So in this case we want to loop through items in the list variable `mynewlist`. I'll come back to `i` in a minute.\n",
    "\n",
    "At the end of this line comes a colon, and that begins an indented section which contains the code we want to be executed for *each* item in that list. In this case the command `print(i)` will run 3 times - once for each of the 3 items in the list.\n",
    "\n",
    "Now what about that `i`?\n",
    "\n",
    "When we loop through a list we need some way to store each item while we're working with it. The word between `for` and `in` is a way of assigning that item to a variable - so `i` is a name for the item the loop is currently working with. The first time the loop runs, `i` is `10` (the first item in the list); the second time, `i` is `20`, and so on. \n",
    "\n",
    "Within the indented code, then, we can use that `i` variable and do things with it, each time the loop runs. In other words, we can do things with *each item* in a list.\n",
    "\n",
    "The choice of `i` is entirely arbitrary: we can use any name we want. It's quite common for people to use `i` in loops because it's short and also represents an 'item' in a 'list', but we can make other choices which are more meaningful. For example, if we wanted to loop through a list of names we might write code like this:"
   ]
  },
  {
   "cell_type": "code",
   "execution_count": 13,
   "metadata": {
    "collapsed": false
   },
   "outputs": [
    {
     "name": "stdout",
     "output_type": "stream",
     "text": [
      "The user is Paul\n",
      "The user is Sarah\n",
      "The user is Diane\n"
     ]
    }
   ],
   "source": [
    "usernames = [\"Paul\", \"Sarah\", \"Diane\"]\n",
    "for username in usernames:\n",
    "    print(\"The user is \"+username)"
   ]
  },
  {
   "cell_type": "markdown",
   "metadata": {},
   "source": [
    "## If/else tests\n",
    "\n",
    "An if/else test in programming allows us to test if something is true or false, and then do different things depending on the answer. Here's an example:"
   ]
  },
  {
   "cell_type": "code",
   "execution_count": 14,
   "metadata": {
    "collapsed": false
   },
   "outputs": [
    {
     "name": "stdout",
     "output_type": "stream",
     "text": [
      "The user is over 25\n"
     ]
    }
   ],
   "source": [
    "userage = 30\n",
    "if userage > 25:\n",
    "    print(\"The user is over 25\")\n",
    "else:\n",
    "    print(\"The user is 25 or younger\")"
   ]
  },
  {
   "cell_type": "markdown",
   "metadata": {},
   "source": [
    "In the example above we store the number 30 in the variable `userage`. The first `if` test asks if that variable is above 25. Note that it ends in a colon and the indented code after that colon will only run if that test returns `True`.\n",
    "\n",
    "If it does not return `True`, then it ignores the indented code and moves to the next line that begins `else`. Again, this ends in a colon and some indented code, which will now run."
   ]
  },
  {
   "cell_type": "code",
   "execution_count": 16,
   "metadata": {
    "collapsed": false
   },
   "outputs": [
    {
     "name": "stdout",
     "output_type": "stream",
     "text": [
      "The user is 25 or younger\n"
     ]
    }
   ],
   "source": [
    "userage = 21\n",
    "if userage > 25:\n",
    "    print(\"The user is over 25\")\n",
    "else:\n",
    "    print(\"The user is 25 or younger\")"
   ]
  },
  {
   "cell_type": "markdown",
   "metadata": {},
   "source": [
    "These tests can be very useful in all sorts of contexts. For example you can use it to only run certain code if you know it is going to work (asking for the 5th item in a list, for example, means you may need to test that there are at least 5 items in that list).\n",
    "\n",
    "In addition to `if` and `else` you can insert extra conditions using `elif` (else if) like so:"
   ]
  },
  {
   "cell_type": "code",
   "execution_count": 17,
   "metadata": {
    "collapsed": false
   },
   "outputs": [
    {
     "name": "stdout",
     "output_type": "stream",
     "text": [
      "The user is between 18 and 25\n"
     ]
    }
   ],
   "source": [
    "userage = 21\n",
    "if userage > 25:\n",
    "    print(\"The user is over 25\")\n",
    "elif userage <18:\n",
    "    print(\"The user is below 18\")\n",
    "else:\n",
    "    print(\"The user is between 18 and 25\")"
   ]
  },
  {
   "cell_type": "markdown",
   "metadata": {},
   "source": [
    "Because these tests are likely to be used more than once, you may want to store them as a **function** so you don't have to write the same code over and over again."
   ]
  },
  {
   "cell_type": "markdown",
   "metadata": {},
   "source": [
    "## Functions\n",
    "\n",
    "In order to do things with variables, it's likely that we will need **functions** of some sort. These are special words which perform some sort of action, such as calculating an average from a collection of numbers, or the biggest number in that collection, or measuring the numbers of characters in a string, or replacing certain characters.\n",
    "\n",
    "We've already come across one function: `str`. This function converts a number to a string.\n",
    "\n",
    "The function `str` is followed by parentheses containing what it needs to work properly: the object you want it to convert.\n",
    "\n",
    "This is a defining feature of functions: they are always followed by parentheses, and those parentheses contain any *ingredients* that are needed for it to work. Some functions have 1 ingredient, some have 2 or more. A few have none, but they still need the parentheses.\n",
    "\n",
    "The function `len`, for example, will tell you the length of a string. Here we use it to find out how long our variable is:"
   ]
  },
  {
   "cell_type": "code",
   "execution_count": 10,
   "metadata": {
    "collapsed": false
   },
   "outputs": [
    {
     "data": {
      "text/plain": [
       "5"
      ]
     },
     "execution_count": 10,
     "metadata": {},
     "output_type": "execute_result"
    }
   ],
   "source": [
    "len(mynewvariable)"
   ]
  },
  {
   "cell_type": "markdown",
   "metadata": {},
   "source": [
    "Some functions work in different ways with different types of variable. Use `len` with a list, for example, and it will tell you how many *items* are in that list.\n",
    "\n",
    "The function `sum` will add up all numbers in a list. Below we first create a list variable, and then use the function on it:"
   ]
  },
  {
   "cell_type": "code",
   "execution_count": 16,
   "metadata": {
    "collapsed": false
   },
   "outputs": [
    {
     "data": {
      "text/plain": [
       "4"
      ]
     },
     "execution_count": 16,
     "metadata": {},
     "output_type": "execute_result"
    }
   ],
   "source": [
    "mylist = [1,3]\n",
    "sum(mylist)"
   ]
  },
  {
   "cell_type": "markdown",
   "metadata": {},
   "source": [
    "A list can also refer to variables. Here for example we store the area for a number of countries in appropriately named variables. Then we store those in a *list*. Finally we use `sum` to calculate the total of that list, and print it."
   ]
  },
  {
   "cell_type": "code",
   "execution_count": 8,
   "metadata": {
    "collapsed": false
   },
   "outputs": [
    {
     "name": "stdout",
     "output_type": "stream",
     "text": [
      "[9.834, 3.287, 9.597, 10.18, 1.964, 0.377]\n",
      "35.239\n",
      "True\n"
     ]
    }
   ],
   "source": [
    "#Is Africa really as big as this: https://twitter.com/simongerman600/status/944535955867881472\n",
    "africa = 30.37\n",
    "#Here are the rest based on quick Google searches\n",
    "usa = 9.834\n",
    "india = 3.287\n",
    "china = 9.597\n",
    "europe = 10.18\n",
    "mexico = 1.964\n",
    "japan = 0.377\n",
    "countrieslist = [usa,india,china,europe,mexico,japan]\n",
    "print(countrieslist)\n",
    "allcountries = sum(countrieslist)\n",
    "print(allcountries)\n",
    "print(africa<allcountries)"
   ]
  },
  {
   "cell_type": "markdown",
   "metadata": {
    "collapsed": true
   },
   "source": [
    "### Creating your own functions\n",
    "\n",
    "Earlier I mentioned how if/else tests might be used over and over again, in which case you may want to save it as a user-defined function. These are functions created by you - the user - and they are created with the command `def` like so:"
   ]
  },
  {
   "cell_type": "code",
   "execution_count": 18,
   "metadata": {
    "collapsed": true
   },
   "outputs": [],
   "source": [
    "def myagetest(userage):\n",
    "    if userage > 25:\n",
    "        print(\"The user is over 25\")\n",
    "    elif userage <18:\n",
    "        print(\"The user is below 18\")\n",
    "    else:\n",
    "        print(\"The user is between 18 and 25\")"
   ]
  },
  {
   "cell_type": "markdown",
   "metadata": {},
   "source": [
    "The `def` is short for *define*. It is followed by:\n",
    "\n",
    "* a *name* for your new function so that it can be used later. (When a function is used we talk about **calling** a function)\n",
    "* some *parentheses* inside which... \n",
    "* you name the ingredients it needs to work. Basically you are creating variables. When someone calls the function and specifies any ingredients in the parentheses, those ingredients are assigned to these variables.\n",
    "* a *colon* then, indented after that...\n",
    "* the code that you want to run when the function is *called*\n",
    "\n",
    "If you've specified any ingedients then chances are the code is going to do something with that variable.\n",
    "\n",
    "Once you've **defined** a function like this you call it by using its name like so:"
   ]
  },
  {
   "cell_type": "code",
   "execution_count": 19,
   "metadata": {
    "collapsed": false
   },
   "outputs": [
    {
     "name": "stdout",
     "output_type": "stream",
     "text": [
      "The user is between 18 and 25\n"
     ]
    }
   ],
   "source": [
    "myagetest(22)"
   ]
  },
  {
   "cell_type": "markdown",
   "metadata": {},
   "source": [
    "What happens here is worth breaking down a little. \n",
    "\n",
    "Firstly, the code looks for a function called `myagetest` - it needs to have been defined *before* this line runs. \n",
    "\n",
    "Secondly, it **passes** the value `22` to that function, as an ingredient - an **argument**.\n",
    "\n",
    "Now we look at the function as we defined it above. In the line `def myagetest(userage):` that ingredient is given the name `userage`. In other words, `22` is stored in a variable called `userage`, which can then be used by the code inside the function. \n",
    "\n",
    "This is what's called a **local variable**. In other words, it only exists within the scope of the function itself. Once the function is finished, the variable no longer exists. \n",
    "\n",
    "That variable is then tested by the code that comes next, and the relevant `print` command is executed.\n",
    "\n",
    "*Note: Python comes with a number of built-in functions, but you can access more functions by importing **libraries**. Using libraries in Python notebooks is a bit more complex than using in environments like Morph.io, so I've [covered that in a separate notebook]()*"
   ]
  },
  {
   "cell_type": "markdown",
   "metadata": {},
   "source": [
    "## Saving your code\n",
    "\n",
    "Once you're done you can log in and save what you've done - but actually all you need to do is copy your code into a text file on your computer (use a text editor like [Atom](https://atom.io/)), and save it with the extension `.py`."
   ]
  }
 ],
 "metadata": {
  "anaconda-cloud": {},
  "kernelspec": {
   "display_name": "Python [default]",
   "language": "python",
   "name": "python3"
  },
  "language_info": {
   "codemirror_mode": {
    "name": "ipython",
    "version": 3
   },
   "file_extension": ".py",
   "mimetype": "text/x-python",
   "name": "python",
   "nbconvert_exporter": "python",
   "pygments_lexer": "ipython3",
   "version": "3.5.4"
  }
 },
 "nbformat": 4,
 "nbformat_minor": 1
}
