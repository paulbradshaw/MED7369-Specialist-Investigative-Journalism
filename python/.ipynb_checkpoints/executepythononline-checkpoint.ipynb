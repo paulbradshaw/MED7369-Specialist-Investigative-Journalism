{
 "cells": [
  {
   "cell_type": "markdown",
   "metadata": {},
   "source": [
    "# A brief introduction to Execute Python Online\n",
    "\n",
    "The [Execute Python Online website](https://www.tutorialspoint.com/execute_python_online.php) allows you to use Python without creating an account or logging in. Start there (for now)\n",
    "\n",
    "The website screen is split into 3 sections:\n",
    "\n",
    "* The upper left corner shows the file directory. Ignore this: you won't need it.\n",
    "* The upper right corner is where you write your code. Above it are buttons to 'execute' that code, etc.\n",
    "* The bottom half of the screen shows you what *output* is generated when you execute the code above.\n",
    "\n",
    "The code window already has two lines of code:\n",
    "\n",
    "```python\n",
    "# Hello World program in Python\n",
    "print \"Hello World!\\n\"\n",
    "```"
   ]
  },
  {
   "cell_type": "markdown",
   "metadata": {},
   "source": [
    "The first line is a **comment**. Comments start with a hash symbol (`#`) and do not do anything, apart from describe what comes after. They are useful for explaining what the code is doing, both for others and for yourself when you return to it later. They can also be used to turn code 'off' temporarily by 'commenting out' a line of code (the line can then be turned back 'on' by removing the comment, or 'uncommenting').\n",
    "\n",
    "The second line is a **print** command. The word `print` tells Python to *display* anything that comes after it. In this case, a **string** of text: `\"Hello World!\\n\"`\n",
    "\n",
    "If you click execute, those two lines of code will run, and that string of text displayed in the output window below."
   ]
  },
  {
   "cell_type": "code",
   "execution_count": 4,
   "metadata": {
    "collapsed": false
   },
   "outputs": [
    {
     "name": "stdout",
     "output_type": "stream",
     "text": [
      "Hello World!\n",
      "\n"
     ]
    }
   ],
   "source": [
    "# Hello World program in Python\n",
    "print \"Hello World!\\n\""
   ]
  },
  {
   "cell_type": "markdown",
   "metadata": {},
   "source": [
    "*Note: Execute Python Online, like many online Python services, uses Python 2.7. However, if you install Python on your computer using Anaconda then it will most likely be using Python 3. In Python 3 the above `print` command will generate an error: `SyntaxError: Missing parentheses in call to 'print'`. To avoid this in Python 3 use parentheses like so: `print(\"Hello World!\\n\")`*\n",
    "\n",
    "## Adding our own code: variables\n",
    "\n"
   ]
  }
 ],
 "metadata": {
  "kernelspec": {
   "display_name": "Python [conda env:anaconda]",
   "language": "python",
   "name": "conda-env-anaconda-py"
  },
  "language_info": {
   "codemirror_mode": {
    "name": "ipython",
    "version": 3
   },
   "file_extension": ".py",
   "mimetype": "text/x-python",
   "name": "python",
   "nbconvert_exporter": "python",
   "pygments_lexer": "ipython3",
   "version": "3.5.4"
  }
 },
 "nbformat": 4,
 "nbformat_minor": 1
}
