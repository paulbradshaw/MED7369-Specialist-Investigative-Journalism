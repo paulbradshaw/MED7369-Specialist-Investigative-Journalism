{
 "cells": [
  {
   "cell_type": "markdown",
   "metadata": {},
   "source": [
    "# A Python (Jupyter) notebook\n",
    "\n",
    "This is a Python notebook. It is a way of explaining what your code does (to yourself as well as others!), while also including working code that can be run again and again (by yourself as well as others). These used to be called Jupyter notebooks but increasingly are more generically referred to as just 'python notebooks'.\n",
    "\n",
    "The text parts (like this) are written in **Markdown**. These are then broken up with **code snippets**.\n",
    "\n",
    "Let's start with the obligatory code to print the text string 'hello world'..."
   ]
  },
  {
   "cell_type": "code",
   "execution_count": 1,
   "metadata": {
    "collapsed": false,
    "scrolled": true
   },
   "outputs": [
    {
     "name": "stdout",
     "output_type": "stream",
     "text": [
      "Hello world\n"
     ]
    }
   ],
   "source": [
    "print(\"Hello world\")"
   ]
  },
  {
   "cell_type": "markdown",
   "metadata": {},
   "source": [
    "Happy now? OK, let's move on to some basic programming concepts. These are:\n",
    "\n",
    "* Variables\n",
    "* Loops\n",
    "* If/else tests\n",
    "* Functions\n",
    "* Libraries\n",
    "\n",
    "## Variables: storing and manipulating information\n",
    "\n",
    "A variable is a way of storing and manipulating information in programming. A typical example would be the user's name: in a piece of programming you might want to ask the user for their name, and then store it somehow to use later (in a welcome message, or a result at the end, for example). \n",
    "\n",
    "Another example would be the user's score in a quiz or game: this is a variable which you not only want to store, but also *change*: every right answer, for example, might add 10 points to their score variable.\n",
    "\n",
    "If you've ever written a spreadsheet formula that uses a cell reference like A2 or C10 then you've already used a form of variable: a formula like `A2*10` can different results depending on the value in A2 - and is more flexible: instead of having to type a new formula each time you want to multiply a number by 10, you only have to change one thing: the value in A2.\n",
    "\n",
    "In Python you create a variable by specifying a name for the variable, followed by the `=` operator, and the value that you want to store in that variable, like this:"
   ]
  },
  {
   "cell_type": "code",
   "execution_count": 20,
   "metadata": {
    "collapsed": false
   },
   "outputs": [],
   "source": [
    "mynewvariable = \"Paul\"\n",
    "myage = 18"
   ]
  },
  {
   "cell_type": "markdown",
   "metadata": {},
   "source": [
    "The name of the variable can be almost anything - the only exceptions are a few special words which already exist as commands, like `print`, but if you try to use any of these you will get a warning anyway. It cannot have spaces (use underscores instead).\n",
    "\n",
    "Once created variables can then be used - and changed - by using the name, like so:"
   ]
  },
  {
   "cell_type": "code",
   "execution_count": 4,
   "metadata": {
    "collapsed": false
   },
   "outputs": [
    {
     "name": "stdout",
     "output_type": "stream",
     "text": [
      "Paul\n"
     ]
    }
   ],
   "source": [
    "print(mynewvariable)"
   ]
  },
  {
   "cell_type": "markdown",
   "metadata": {},
   "source": [
    "You can change a variable by assigning a new value in the same way:"
   ]
  },
  {
   "cell_type": "code",
   "execution_count": 5,
   "metadata": {
    "collapsed": false
   },
   "outputs": [
    {
     "name": "stdout",
     "output_type": "stream",
     "text": [
      "Sarah\n"
     ]
    }
   ],
   "source": [
    "mynewvariable = \"Sarah\"\n",
    "print(mynewvariable)"
   ]
  },
  {
   "cell_type": "markdown",
   "metadata": {},
   "source": [
    "And you can even use a variable to update itself:"
   ]
  },
  {
   "cell_type": "code",
   "execution_count": 6,
   "metadata": {
    "collapsed": false
   },
   "outputs": [
    {
     "name": "stdout",
     "output_type": "stream",
     "text": [
      "18\n",
      "19\n"
     ]
    }
   ],
   "source": [
    "print(myage)\n",
    "myage = myage+1\n",
    "print(myage)"
   ]
  },
  {
   "cell_type": "markdown",
   "metadata": {},
   "source": [
    "Note that the code to the right of the `=` operator is executed *first*, so in the part `myage+1`, the variable `myage` is 18. 18+1 is 19, and that value is then **assigned** to the `myage` variable, overwriting its previous value of 18.\n",
    "\n",
    "### Types of variable\n",
    "\n",
    "Note that the two values we used above - `\"Paul\"` and `18` - have an important difference: one uses quotation marks. This indicates that the value is a **string**, i.e. a series of characters. If you try to use a word without quotation marks, the code will assume that it has a special meaning, like a variable, function or library (more on those below).\n",
    "\n",
    "See what happens, for example, if we try to assign the value `Paul` *without* quotation marks to a variable:"
   ]
  },
  {
   "cell_type": "code",
   "execution_count": 7,
   "metadata": {
    "collapsed": false
   },
   "outputs": [
    {
     "ename": "NameError",
     "evalue": "name 'Paul' is not defined",
     "output_type": "error",
     "traceback": [
      "\u001b[0;31m---------------------------------------------------------------------------\u001b[0m",
      "\u001b[0;31mNameError\u001b[0m                                 Traceback (most recent call last)",
      "\u001b[0;32m<ipython-input-7-820a5fc6895c>\u001b[0m in \u001b[0;36m<module>\u001b[0;34m()\u001b[0m\n\u001b[0;32m----> 1\u001b[0;31m \u001b[0mmynewvariable\u001b[0m \u001b[0;34m=\u001b[0m \u001b[0mPaul\u001b[0m\u001b[0;34m\u001b[0m\u001b[0m\n\u001b[0m",
      "\u001b[0;31mNameError\u001b[0m: name 'Paul' is not defined"
     ]
    }
   ],
   "source": [
    "mynewvariable = Paul"
   ]
  },
  {
   "cell_type": "markdown",
   "metadata": {},
   "source": [
    "The error tells us that `'Paul' is not defined`. In other words, we have not *defined* a function or variable called Paul. That's because it's not a function or variable - it's a string, but we forgot to indicate that by putting it inside quotation marks.\n",
    "\n",
    "Numbers do not need quotation marks because they are, well, numerical. And we want to treat them that way. Sometimes we *might* want to treat numbers as strings - for example if we are putting them into a URL, or adding them to a postcode or similar code. In those cases we would put them in quotation marks. But if want to perform calculations like adding, multiplying, and so on, we don't use quotation marks.\n",
    "\n",
    "It's worth mentioning here that there is more than one type of number: **integers** are whole numbers, and **floats** are numbers with decimal points. \n",
    "\n",
    "As well as strings, integers and floats, there are two other types of variable in Python worth mentioning here: **lists** and **dictionaries**.\n",
    "\n",
    "A list is useful for storing multiple objects that you might want to pull items from, or measure. For example if you wanted to add together a series of numbers, you'd probably want to store them in a list in order to do that. Likewise, if you wanted to check whether a document contained any directors from a particular company, you'd probably want to store the names of those directors in a list too.\n",
    "\n",
    "A list is created by using square brackets, with each item separated by a comma, like so:"
   ]
  },
  {
   "cell_type": "code",
   "execution_count": 11,
   "metadata": {
    "collapsed": true
   },
   "outputs": [],
   "source": [
    "mynewlist = [10,20,40]\n",
    "myotherlist = [\"Paul\", \"Sarah\", \"Diane\"]"
   ]
  },
  {
   "cell_type": "markdown",
   "metadata": {},
   "source": [
    "Lists are often used with **loops**, which we'll come on to.\n",
    "\n",
    "The other type of variable - a **dictionary** - is essentially a different type of list; a list of *key-value pairs*. It's easiest to demonstrate with an example:"
   ]
  },
  {
   "cell_type": "code",
   "execution_count": null,
   "metadata": {
    "collapsed": true
   },
   "outputs": [],
   "source": [
    "mynewdict = {\"name\" : \"Paul\", \"age\" : 18, \"hometown\" : \"Birmingham\"}"
   ]
  },
  {
   "cell_type": "markdown",
   "metadata": {},
   "source": [
    "The *key* is like a column heading in a spreadsheet: name, age, hometown. The *value* is like the cells underneath that column heading: \"Paul\", 18, \"Birmingham\". A **colon** is used to create the *key-value pair*, and commas are used to separate each pair into a list.\n",
    "\n",
    "Dictionaries are useful in storing data. In a scraper, for example, you might grab one piece of information from a webpage and store it in a dictionary variable against a relevant key, then grab a different piece of information and store that against another key, and so on. If you get into scraping you'll get more experience with this."
   ]
  },
  {
   "cell_type": "markdown",
   "metadata": {},
   "source": [
    "## Loops\n",
    "\n",
    "Loops are a way to perform repetitive actions in code. They are extremely useful for situations involving lists or ranges of numbers: for example you might loop through a list of items and check each one, or save it in a datastore; or loop through a range of numbers and add them to a URL to create a page number.\n",
    "\n",
    "Here is an example:"
   ]
  },
  {
   "cell_type": "code",
   "execution_count": 12,
   "metadata": {
    "collapsed": false
   },
   "outputs": [
    {
     "name": "stdout",
     "output_type": "stream",
     "text": [
      "10\n",
      "20\n",
      "40\n"
     ]
    }
   ],
   "source": [
    "for i in mynewlist:\n",
    "    print(i)"
   ]
  },
  {
   "cell_type": "markdown",
   "metadata": {},
   "source": [
    "A loop has a number of parts which are worth breaking down:\n",
    "\n",
    "* `for` and `in`\n",
    "* the variable here called `i`\n",
    "* the colon\n",
    "* the indented code after the colon\n",
    "\n",
    "The word `for` indicates that we want to begin looping. What we want to loop *through* is indicated by `in`. So in this case we want to loop through items in the list variable `mynewlist`. I'll come back to `i` in a minute.\n",
    "\n",
    "At the end of this line comes a colon, and that begins an indented section which contains the code we want to be executed for *each* item in that list. In this case the command `print(i)` will run 3 times - once for each of the 3 items in the list.\n",
    "\n",
    "Now what about that `i`?\n",
    "\n",
    "When we loop through a list we need some way to store each item while we're working with it. The word between `for` and `in` is a way of assigning that item to a variable - so `i` is a name for the item the loop is currently working with. The first time the loop runs, `i` is `10` (the first item in the list); the second time, `i` is `20`, and so on. \n",
    "\n",
    "Within the indented code, then, we can use that `i` variable and do things with it, each time the loop runs. In other words, we can do things with *each item* in a list.\n",
    "\n",
    "The choice of `i` is entirely arbitrary: we can use any name we want. It's quite common for people to use `i` in loops because it's short and also represents an 'item' in a 'list', but we can make other choices which are more meaningful. For example, if we wanted to loop through a list of names we might write code like this:"
   ]
  },
  {
   "cell_type": "code",
   "execution_count": 13,
   "metadata": {
    "collapsed": false
   },
   "outputs": [
    {
     "name": "stdout",
     "output_type": "stream",
     "text": [
      "The user is Paul\n",
      "The user is Sarah\n",
      "The user is Diane\n"
     ]
    }
   ],
   "source": [
    "usernames = [\"Paul\", \"Sarah\", \"Diane\"]\n",
    "for username in usernames:\n",
    "    print(\"The user is \"+username)"
   ]
  },
  {
   "cell_type": "markdown",
   "metadata": {},
   "source": [
    "## If/else tests\n",
    "\n",
    "An if/else test in programming allows us to test if something is true or false, and then do different things depending on the answer. Here's an example:"
   ]
  },
  {
   "cell_type": "code",
   "execution_count": 14,
   "metadata": {
    "collapsed": false
   },
   "outputs": [
    {
     "name": "stdout",
     "output_type": "stream",
     "text": [
      "The user is over 25\n"
     ]
    }
   ],
   "source": [
    "userage = 30\n",
    "if userage > 25:\n",
    "    print(\"The user is over 25\")\n",
    "else:\n",
    "    print(\"The user is 25 or younger\")"
   ]
  },
  {
   "cell_type": "markdown",
   "metadata": {},
   "source": [
    "In the example above we store the number 30 in the variable `userage`. The first `if` test asks if that variable is above 25. Note that it ends in a colon and the indented code after that colon will only run if that test returns `True`.\n",
    "\n",
    "If it does not return `True`, then it ignores the indented code and moves to the next line that begins `else`. Again, this ends in a colon and some indented code, which will now run."
   ]
  },
  {
   "cell_type": "code",
   "execution_count": 16,
   "metadata": {
    "collapsed": false
   },
   "outputs": [
    {
     "name": "stdout",
     "output_type": "stream",
     "text": [
      "The user is 25 or younger\n"
     ]
    }
   ],
   "source": [
    "userage = 21\n",
    "if userage > 25:\n",
    "    print(\"The user is over 25\")\n",
    "else:\n",
    "    print(\"The user is 25 or younger\")"
   ]
  },
  {
   "cell_type": "markdown",
   "metadata": {},
   "source": [
    "These tests can be very useful in all sorts of contexts. For example you can use it to only run certain code if you know it is going to work (asking for the 5th item in a list, for example, means you may need to test that there are at least 5 items in that list).\n",
    "\n",
    "In addition to `if` and `else` you can insert extra conditions using `elif` (else if) like so:"
   ]
  },
  {
   "cell_type": "code",
   "execution_count": 17,
   "metadata": {
    "collapsed": false
   },
   "outputs": [
    {
     "name": "stdout",
     "output_type": "stream",
     "text": [
      "The user is between 18 and 25\n"
     ]
    }
   ],
   "source": [
    "userage = 21\n",
    "if userage > 25:\n",
    "    print(\"The user is over 25\")\n",
    "elif userage <18:\n",
    "    print(\"The user is below 18\")\n",
    "else:\n",
    "    print(\"The user is between 18 and 25\")"
   ]
  },
  {
   "cell_type": "markdown",
   "metadata": {},
   "source": [
    "Because these tests are likely to be used more than once, you may want to store them as a **function** so you don't have to write the same code over and over again."
   ]
  },
  {
   "cell_type": "markdown",
   "metadata": {},
   "source": [
    "## Functions\n",
    "\n",
    "In order to do things with variables, it's likely that we will need **functions** of some sort. These are special words which perform some sort of action, such as calculating an average from a collection of numbers, or the biggest number in that collection, or measuring the numbers of characters in a string, or replacing certain characters.\n",
    "\n",
    "We've already come across one function: `print`. This is used to display something in the console. We used it with the string \"hello world\" and with variables too.\n",
    "\n",
    "The function `print` is followed by parentheses containing what it needs to work properly: the object you want it to print.\n",
    "\n",
    "This is a defining feature of functions: they are always followed by parentheses, and those parentheses contain any *ingredients* that are needed for it to work. Some functions have 1 ingredient, some have 2 or more. A few have none, but they still need the parentheses.\n",
    "\n",
    "The function `len`, for example, will tell you the length of a string. Here we use it to find out how long our variable is:"
   ]
  },
  {
   "cell_type": "code",
   "execution_count": 10,
   "metadata": {
    "collapsed": false
   },
   "outputs": [
    {
     "data": {
      "text/plain": [
       "5"
      ]
     },
     "execution_count": 10,
     "metadata": {},
     "output_type": "execute_result"
    }
   ],
   "source": [
    "len(mynewvariable)"
   ]
  },
  {
   "cell_type": "markdown",
   "metadata": {},
   "source": [
    "The function `sum` will add up all numbers in a list. Below we first create a list variable, and then use the function on it:"
   ]
  },
  {
   "cell_type": "code",
   "execution_count": 16,
   "metadata": {
    "collapsed": false
   },
   "outputs": [
    {
     "data": {
      "text/plain": [
       "4"
      ]
     },
     "execution_count": 16,
     "metadata": {},
     "output_type": "execute_result"
    }
   ],
   "source": [
    "mylist = [1,3]\n",
    "sum(mylist)"
   ]
  },
  {
   "cell_type": "markdown",
   "metadata": {},
   "source": [
    "A list can also refer to variables. Here for example we store the area for a number of countries in appropriately named variables. Then we store those in a *list*. Finally we use `sum` to calculate the total of that list, and print it."
   ]
  },
  {
   "cell_type": "code",
   "execution_count": 8,
   "metadata": {
    "collapsed": false
   },
   "outputs": [
    {
     "name": "stdout",
     "output_type": "stream",
     "text": [
      "[9.834, 3.287, 9.597, 10.18, 1.964, 0.377]\n",
      "35.239\n",
      "True\n"
     ]
    }
   ],
   "source": [
    "#Is Africa really as big as this: https://twitter.com/simongerman600/status/944535955867881472\n",
    "africa = 30.37\n",
    "#Here are the rest based on quick Google searches\n",
    "usa = 9.834\n",
    "india = 3.287\n",
    "china = 9.597\n",
    "europe = 10.18\n",
    "mexico = 1.964\n",
    "japan = 0.377\n",
    "countrieslist = [usa,india,china,europe,mexico,japan]\n",
    "print(countrieslist)\n",
    "allcountries = sum(countrieslist)\n",
    "print(allcountries)\n",
    "print(africa<allcountries)"
   ]
  },
  {
   "cell_type": "markdown",
   "metadata": {
    "collapsed": true
   },
   "source": [
    "### Creating your own functions\n",
    "\n",
    "Earlier I mentioned how if/else tests might be used over and over again, in which case you may want to save it as a user-defined function. These are functions created by you - the user - and they are created with the command `def` like so:"
   ]
  },
  {
   "cell_type": "code",
   "execution_count": 18,
   "metadata": {
    "collapsed": true
   },
   "outputs": [],
   "source": [
    "def myagetest(userage):\n",
    "    if userage > 25:\n",
    "        print(\"The user is over 25\")\n",
    "    elif userage <18:\n",
    "        print(\"The user is below 18\")\n",
    "    else:\n",
    "        print(\"The user is between 18 and 25\")"
   ]
  },
  {
   "cell_type": "markdown",
   "metadata": {},
   "source": [
    "The `def` is short for *define*. It needs to be followed by a *name* for your new function (so that it can be used - called - later), then some *parentheses* containing any ingredients it needs to work, followed by a *colon*.\n",
    "\n",
    "As you might guess, after the colon comes some indented code. That indented code is the code you want to run when the function is *called*. If you've specified any ingedients then chances are the code is going to do something with that variable.\n",
    "\n",
    "Once you've **defined** a function like this you call it by using its name like so:"
   ]
  },
  {
   "cell_type": "code",
   "execution_count": 19,
   "metadata": {
    "collapsed": false
   },
   "outputs": [
    {
     "name": "stdout",
     "output_type": "stream",
     "text": [
      "The user is between 18 and 25\n"
     ]
    }
   ],
   "source": [
    "myagetest(22)"
   ]
  },
  {
   "cell_type": "markdown",
   "metadata": {},
   "source": [
    "What happens here is worth breaking down a little. \n",
    "\n",
    "Firstly, the code looks for a function called `myagetest` - it needs to have been defined *before* this line runs. \n",
    "\n",
    "Secondly, it *passes* the value `22` to that function, as an ingredient - an *argument*.\n",
    "\n",
    "Now we look at the function as we defined it above. In the line `def myagetest(userage):` that ingredient is given the name `userage`. In other words, `22` is stored in a variable called `userage`, which can then be used by the code inside the function. \n",
    "\n",
    "This is what's called a **local variable**. In other words, it only exists within the scope of the function itself. Once the function is finished, the variable no longer exists. \n",
    "\n",
    "That variable is then tested by the code that comes next, and the relevant `print` command is executed."
   ]
  },
  {
   "cell_type": "markdown",
   "metadata": {},
   "source": [
    "### Using functions from other libraries\n",
    "\n",
    "Python comes with a number of built-in functions, but you can access more functions by importing **libraries**. Using libraries in Python notebooks is a bit more complex than using in environments like Morph.io, so I've [covered that in a separate notebook]()"
   ]
  }
 ],
 "metadata": {
  "anaconda-cloud": {},
  "kernelspec": {
   "display_name": "Python [default]",
   "language": "python",
   "name": "python3"
  },
  "language_info": {
   "codemirror_mode": {
    "name": "ipython",
    "version": 3
   },
   "file_extension": ".py",
   "mimetype": "text/x-python",
   "name": "python",
   "nbconvert_exporter": "python",
   "pygments_lexer": "ipython3",
   "version": "3.5.2"
  }
 },
 "nbformat": 4,
 "nbformat_minor": 1
}
